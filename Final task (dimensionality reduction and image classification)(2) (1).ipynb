{
  "nbformat": 4,
  "nbformat_minor": 0,
  "metadata": {
    "kernelspec": {
      "display_name": "Python 3",
      "language": "python",
      "name": "python3"
    },
    "language_info": {
      "codemirror_mode": {
        "name": "ipython",
        "version": 3
      },
      "file_extension": ".py",
      "mimetype": "text/x-python",
      "name": "python",
      "nbconvert_exporter": "python",
      "pygments_lexer": "ipython3",
      "version": "3.7.4"
    },
    "colab": {
      "name": "Final_ADV (2).ipynb",
      "provenance": [],
      "collapsed_sections": []
    }
  },
  "cells": [
    {
      "cell_type": "markdown",
      "metadata": {
        "id": "ybtBt1amg6Od",
        "colab_type": "text"
      },
      "source": [
        "Рассмотрим основные моменты не вошедшие в предыдущие лекции"
      ]
    },
    {
      "cell_type": "markdown",
      "metadata": {
        "id": "BlQQKK-Ig6Og",
        "colab_type": "text"
      },
      "source": [
        "Обновим и подключим библиотеки:"
      ]
    },
    {
      "cell_type": "code",
      "metadata": {
        "id": "QQ6LyPCbg6Oh",
        "colab_type": "code",
        "outputId": "c7c0953c-1dbc-4731-f474-34dd9cb7d8a6",
        "colab": {
          "base_uri": "https://localhost:8080/",
          "height": 391
        }
      },
      "source": [
        "!pip install --upgrade pip\n",
        "!pip install --upgrade scikit-learn==0.23.0\n"
      ],
      "execution_count": 0,
      "outputs": [
        {
          "output_type": "stream",
          "text": [
            "Collecting pip\n",
            "\u001b[?25l  Downloading https://files.pythonhosted.org/packages/43/84/23ed6a1796480a6f1a2d38f2802901d078266bda38388954d01d3f2e821d/pip-20.1.1-py2.py3-none-any.whl (1.5MB)\n",
            "\u001b[K     |████████████████████████████████| 1.5MB 2.8MB/s \n",
            "\u001b[?25hInstalling collected packages: pip\n",
            "  Found existing installation: pip 19.3.1\n",
            "    Uninstalling pip-19.3.1:\n",
            "      Successfully uninstalled pip-19.3.1\n",
            "Successfully installed pip-20.1.1\n",
            "Collecting scikit-learn==0.23.0\n",
            "  Downloading scikit_learn-0.23.0-cp36-cp36m-manylinux1_x86_64.whl (7.3 MB)\n",
            "\u001b[K     |████████████████████████████████| 7.3 MB 2.5 MB/s \n",
            "\u001b[?25hCollecting threadpoolctl>=2.0.0\n",
            "  Downloading threadpoolctl-2.1.0-py3-none-any.whl (12 kB)\n",
            "Requirement already satisfied, skipping upgrade: joblib>=0.11 in /usr/local/lib/python3.6/dist-packages (from scikit-learn==0.23.0) (0.15.1)\n",
            "Requirement already satisfied, skipping upgrade: numpy>=1.13.3 in /usr/local/lib/python3.6/dist-packages (from scikit-learn==0.23.0) (1.18.4)\n",
            "Requirement already satisfied, skipping upgrade: scipy>=0.19.1 in /usr/local/lib/python3.6/dist-packages (from scikit-learn==0.23.0) (1.4.1)\n",
            "Installing collected packages: threadpoolctl, scikit-learn\n",
            "  Attempting uninstall: scikit-learn\n",
            "    Found existing installation: scikit-learn 0.22.2.post1\n",
            "    Uninstalling scikit-learn-0.22.2.post1:\n",
            "      Successfully uninstalled scikit-learn-0.22.2.post1\n",
            "Successfully installed scikit-learn-0.23.0 threadpoolctl-2.1.0\n"
          ],
          "name": "stdout"
        }
      ]
    },
    {
      "cell_type": "code",
      "metadata": {
        "colab_type": "code",
        "id": "_kphIkGWB6-C",
        "colab": {}
      },
      "source": [
        "import pandas as pd\n",
        "import numpy as np\n",
        "import matplotlib\n",
        "import matplotlib.pyplot as plt\n",
        "from sklearn.decomposition import PCA\n",
        "%matplotlib inline"
      ],
      "execution_count": 0,
      "outputs": []
    },
    {
      "cell_type": "markdown",
      "metadata": {
        "id": "X3Dhh0exg6O7",
        "colab_type": "text"
      },
      "source": [
        "Импортируем датасет MNIST."
      ]
    },
    {
      "cell_type": "code",
      "metadata": {
        "colab_type": "code",
        "id": "Qa4msCoyCAkr",
        "outputId": "e9f3caf4-1644-4243-a8ee-64efdb69f444",
        "colab": {
          "base_uri": "https://localhost:8080/",
          "height": 68
        }
      },
      "source": [
        "from keras.datasets import mnist\n",
        "(X_train, y_train), (X_pred, y_pred) = mnist.load_data()"
      ],
      "execution_count": 0,
      "outputs": [
        {
          "output_type": "stream",
          "text": [
            "Using TensorFlow backend.\n"
          ],
          "name": "stderr"
        },
        {
          "output_type": "stream",
          "text": [
            "Downloading data from https://s3.amazonaws.com/img-datasets/mnist.npz\n",
            "11493376/11490434 [==============================] - 9s 1us/step\n"
          ],
          "name": "stdout"
        }
      ]
    },
    {
      "cell_type": "code",
      "metadata": {
        "id": "WI0C6RuVuiAX",
        "colab_type": "code",
        "colab": {}
      },
      "source": [
        "dim = 784 # 28*28 \n",
        "X_train = X_train.reshape(len(X_train), dim)"
      ],
      "execution_count": 0,
      "outputs": []
    },
    {
      "cell_type": "markdown",
      "metadata": {
        "id": "pImwbN2Rv38_",
        "colab_type": "text"
      },
      "source": [
        "Введите количество главных компонент:"
      ]
    },
    {
      "cell_type": "code",
      "metadata": {
        "id": "F6oRDMrtuj7q",
        "colab_type": "code",
        "colab": {}
      },
      "source": [
        "pca = PCA(n_components=41, svd_solver='full')\n",
        "modelPCA = pca.fit(X_train) \n",
        "X_train = modelPCA.transform(X_train)"
      ],
      "execution_count": 0,
      "outputs": []
    },
    {
      "cell_type": "code",
      "metadata": {
        "id": "nbjVku8OIx0R",
        "colab_type": "code",
        "outputId": "b757d3ea-3e35-474c-ad5d-31a65946f9da",
        "colab": {
          "base_uri": "https://localhost:8080/",
          "height": 102
        }
      },
      "source": [
        "explained_variance = np.round(np.cumsum(pca.explained_variance_ratio_),3)\n",
        "explained_variance"
      ],
      "execution_count": 0,
      "outputs": [
        {
          "output_type": "execute_result",
          "data": {
            "text/plain": [
              "array([0.097, 0.168, 0.23 , 0.284, 0.332, 0.375, 0.408, 0.437, 0.465,\n",
              "       0.488, 0.509, 0.529, 0.547, 0.564, 0.579, 0.594, 0.607, 0.62 ,\n",
              "       0.632, 0.644, 0.654, 0.664, 0.674, 0.683, 0.692, 0.7  , 0.708,\n",
              "       0.716, 0.724, 0.731, 0.737, 0.744, 0.75 , 0.755, 0.761, 0.767,\n",
              "       0.772, 0.777, 0.781, 0.786, 0.791])"
            ]
          },
          "metadata": {
            "tags": []
          },
          "execution_count": 8
        }
      ]
    },
    {
      "cell_type": "markdown",
      "metadata": {
        "id": "F0DEbIeTg6Pb",
        "colab_type": "text"
      },
      "source": [
        "Для разделения данных рекомендуем использовать функцию train_test_split из библиотеки sklearn. Следующий код разделяет исходные данные в отношении 70/30."
      ]
    },
    {
      "cell_type": "code",
      "metadata": {
        "id": "zU1pzPJsunU7",
        "colab_type": "code",
        "colab": {}
      },
      "source": [
        "from sklearn.model_selection import train_test_split\n",
        "\n",
        "X_train, X_test, y_train, y_test = train_test_split(X_train, y_train, test_size=0.3, random_state=28)"
      ],
      "execution_count": 0,
      "outputs": []
    },
    {
      "cell_type": "markdown",
      "metadata": {
        "id": "k2hDJDUovkri",
        "colab_type": "text"
      },
      "source": [
        "Выборочное среднее нулевой колонки для полученного тренировочного набора:"
      ]
    },
    {
      "cell_type": "code",
      "metadata": {
        "id": "sUkZ4rN7voAw",
        "colab_type": "code",
        "outputId": "411d119f-41ce-48fb-b1a8-2e2a7a23db4e",
        "colab": {
          "base_uri": "https://localhost:8080/",
          "height": 34
        }
      },
      "source": [
        "n = len(X_train)\n",
        "X = 0\n",
        "for arr in X_train:\n",
        "  X += arr[0]\n",
        "print(X/n)"
      ],
      "execution_count": 0,
      "outputs": [
        {
          "output_type": "stream",
          "text": [
            "4.332942081334197\n"
          ],
          "name": "stdout"
        }
      ]
    },
    {
      "cell_type": "markdown",
      "metadata": {
        "id": "YHakENPgpvBJ",
        "colab_type": "text"
      },
      "source": [
        "Примените полученное ранее преобразование метода главных компонент к новым данным\n"
      ]
    },
    {
      "cell_type": "code",
      "metadata": {
        "id": "gknCPPoRo3TK",
        "colab_type": "code",
        "colab": {}
      },
      "source": [
        "test = pd.read_csv('/pred_for_task.csv', sep=',')\n",
        "y_true = np.array(test['Label'])"
      ],
      "execution_count": 0,
      "outputs": []
    },
    {
      "cell_type": "markdown",
      "metadata": {
        "id": "yf5y3weBuHgz",
        "colab_type": "text"
      },
      "source": [
        "# New Section"
      ]
    },
    {
      "cell_type": "code",
      "metadata": {
        "id": "uBx0A_BBpRGa",
        "colab_type": "code",
        "colab": {}
      },
      "source": [
        "test.drop(columns = ['FileName', 'Label'], inplace=True)\n",
        "X = np.array(test)\n",
        "X = modelPCA.transform(X)"
      ],
      "execution_count": 0,
      "outputs": []
    },
    {
      "cell_type": "code",
      "metadata": {
        "id": "29_U37nJusYJ",
        "colab_type": "code",
        "colab": {}
      },
      "source": [
        "from sklearn.multiclass import OneVsRestClassifier\n",
        "from sklearn.tree import DecisionTreeClassifier\n",
        "from sklearn.ensemble import RandomForestClassifier\n",
        "from sklearn.linear_model import LogisticRegression\n",
        "from sklearn.metrics import confusion_matrix\n"
      ],
      "execution_count": 0,
      "outputs": []
    },
    {
      "cell_type": "markdown",
      "metadata": {
        "id": "9hxH3aRFxdTG",
        "colab_type": "text"
      },
      "source": [
        "Обучите алгоритм случайного леса RandomForestClassifier()"
      ]
    },
    {
      "cell_type": "code",
      "metadata": {
        "id": "z86X3fBluwV3",
        "colab_type": "code",
        "colab": {}
      },
      "source": [
        "tree = RandomForestClassifier(criterion='gini', min_samples_leaf=10, max_depth=20, n_estimators=10, random_state=28)\n",
        "clf = OneVsRestClassifier(tree).fit(X_train, y_train)"
      ],
      "execution_count": 0,
      "outputs": []
    },
    {
      "cell_type": "code",
      "metadata": {
        "id": "91TntOj4uxFm",
        "colab_type": "code",
        "colab": {}
      },
      "source": [
        "y_pred = clf.predict(X_test)"
      ],
      "execution_count": 0,
      "outputs": []
    },
    {
      "cell_type": "markdown",
      "metadata": {
        "id": "9pa-aJdmxXgx",
        "colab_type": "text"
      },
      "source": [
        "Количество верно классифицированных объектов класса 3 для тестовых данных"
      ]
    },
    {
      "cell_type": "code",
      "metadata": {
        "id": "Fa03_CoxvDrb",
        "colab_type": "code",
        "outputId": "6c3d5a61-cb82-4748-e064-561889c4576a",
        "colab": {
          "base_uri": "https://localhost:8080/",
          "height": 34
        }
      },
      "source": [
        "CM = confusion_matrix(y_test, y_pred)\n",
        "CM[5][5]"
      ],
      "execution_count": 0,
      "outputs": [
        {
          "output_type": "execute_result",
          "data": {
            "text/plain": [
              "1478"
            ]
          },
          "metadata": {
            "tags": []
          },
          "execution_count": 18
        }
      ]
    },
    {
      "cell_type": "markdown",
      "metadata": {
        "id": "nqxYl39IorWt",
        "colab_type": "text"
      },
      "source": [
        "Вероятность отнесения изображения file18 к назначенному классу алгоритмом случайного леса"
      ]
    },
    {
      "cell_type": "code",
      "metadata": {
        "id": "hNEJATWyp6st",
        "colab_type": "code",
        "outputId": "b2023c47-56b9-487f-f932-04fd1429944e",
        "colab": {
          "base_uri": "https://localhost:8080/",
          "height": 34
        }
      },
      "source": [
        "y_pred = clf.predict_proba([X[0]])\n",
        "label =  y_true[0]\n",
        "print(label, '--prob', np.round(y_pred[0][label], 4))"
      ],
      "execution_count": 0,
      "outputs": [
        {
          "output_type": "stream",
          "text": [
            "7 --prob 0.956\n"
          ],
          "name": "stdout"
        }
      ]
    },
    {
      "cell_type": "markdown",
      "metadata": {
        "id": "I7mT-nRqxkpw",
        "colab_type": "text"
      },
      "source": [
        "Обучите алгоритм логистической регрессии LogisticRegression"
      ]
    },
    {
      "cell_type": "code",
      "metadata": {
        "id": "KBtvbx6bxhzy",
        "colab_type": "code",
        "colab": {}
      },
      "source": [
        "lr = LogisticRegression(solver='lbfgs', random_state=28, max_iter=7600)\n",
        "clf = OneVsRestClassifier(lr).fit(X_train, y_train)"
      ],
      "execution_count": 0,
      "outputs": []
    },
    {
      "cell_type": "code",
      "metadata": {
        "id": "Jg6z4bX0x_4d",
        "colab_type": "code",
        "colab": {}
      },
      "source": [
        "y_pred = clf.predict(X_test)\n",
        "CM = confusion_matrix(y_test, y_pred)"
      ],
      "execution_count": 0,
      "outputs": []
    },
    {
      "cell_type": "code",
      "metadata": {
        "id": "0pEz4dctyKfl",
        "colab_type": "code",
        "outputId": "dd4b6764-bb45-4eb3-f1ae-7c89ce120e08",
        "colab": {
          "base_uri": "https://localhost:8080/",
          "height": 34
        }
      },
      "source": [
        "CM[5][5]"
      ],
      "execution_count": 0,
      "outputs": [
        {
          "output_type": "execute_result",
          "data": {
            "text/plain": [
              "1332"
            ]
          },
          "metadata": {
            "tags": []
          },
          "execution_count": 22
        }
      ]
    },
    {
      "cell_type": "markdown",
      "metadata": {
        "id": "TGCR7I9gq4MM",
        "colab_type": "text"
      },
      "source": [
        "Вероятность отнесения изображения file15 к назначенному классу алгоритмом логистической регрессией."
      ]
    },
    {
      "cell_type": "code",
      "metadata": {
        "colab_type": "code",
        "outputId": "64cf0030-4622-409a-8bba-44220c8e24cb",
        "id": "UMcaUDDKq03z",
        "colab": {
          "base_uri": "https://localhost:8080/",
          "height": 34
        }
      },
      "source": [
        "y_pred = clf.predict_proba([X[28]])\n",
        "label =  y_true[28]\n",
        "print(label, '--prob', np.round(y_pred[0][label], 4))"
      ],
      "execution_count": 0,
      "outputs": [
        {
          "output_type": "stream",
          "text": [
            "0 --prob 0.981\n"
          ],
          "name": "stdout"
        }
      ]
    },
    {
      "cell_type": "markdown",
      "metadata": {
        "id": "CUffKLwsztBt",
        "colab_type": "text"
      },
      "source": [
        "Обучите дерево принятия решений DecisionTreeClassifier()"
      ]
    },
    {
      "cell_type": "code",
      "metadata": {
        "id": "xuMG2cxkzumP",
        "colab_type": "code",
        "colab": {}
      },
      "source": [
        "decTree = DecisionTreeClassifier(criterion='gini', min_samples_leaf=10, max_depth=20, random_state=28)\n",
        "clf = OneVsRestClassifier(decTree).fit(X_train, y_train)"
      ],
      "execution_count": 0,
      "outputs": []
    },
    {
      "cell_type": "code",
      "metadata": {
        "id": "tY8ekYky0A99",
        "colab_type": "code",
        "colab": {}
      },
      "source": [
        "y_pred = clf.predict(X_test)\n",
        "CM = confusion_matrix(y_test, y_pred)"
      ],
      "execution_count": 0,
      "outputs": []
    },
    {
      "cell_type": "code",
      "metadata": {
        "id": "UNxEe7nD0DVe",
        "colab_type": "code",
        "outputId": "c9718fc1-4daf-4f63-c247-4165fc86572f",
        "colab": {
          "base_uri": "https://localhost:8080/",
          "height": 34
        }
      },
      "source": [
        "CM[7][7]"
      ],
      "execution_count": 0,
      "outputs": [
        {
          "output_type": "execute_result",
          "data": {
            "text/plain": [
              "1682"
            ]
          },
          "metadata": {
            "tags": []
          },
          "execution_count": 26
        }
      ]
    },
    {
      "cell_type": "markdown",
      "metadata": {
        "id": "Ya3LDTWs2zbR",
        "colab_type": "text"
      },
      "source": [
        "Введите вероятность отнесения изображения file19 к назначенному классу деревом принятия решений."
      ]
    },
    {
      "cell_type": "code",
      "metadata": {
        "colab_type": "code",
        "outputId": "dd7e2df4-7774-4488-c703-42b23a9e3f92",
        "id": "vmvoVdulq2ck",
        "colab": {
          "base_uri": "https://localhost:8080/",
          "height": 34
        }
      },
      "source": [
        "y_pred = clf.predict_proba([X[3]])\n",
        "label =  y_true[3]\n",
        "print(label, '--prob', np.round(y_pred[0][label], 4))"
      ],
      "execution_count": 0,
      "outputs": [
        {
          "output_type": "stream",
          "text": [
            "0 --prob 0.9947\n"
          ],
          "name": "stdout"
        }
      ]
    }
  ]
}